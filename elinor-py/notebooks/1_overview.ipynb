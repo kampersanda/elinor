{
 "cells": [
  {
   "cell_type": "code",
   "execution_count": 1,
   "metadata": {},
   "outputs": [],
   "source": [
    "from elinor.statistical_tests import StudentTTest"
   ]
  },
  {
   "cell_type": "code",
   "execution_count": 2,
   "metadata": {},
   "outputs": [
    {
     "data": {
      "text/plain": [
       "20"
      ]
     },
     "execution_count": 2,
     "metadata": {},
     "output_type": "execute_result"
    }
   ],
   "source": [
    "paired_samples = [\n",
    "    (0.70, 0.50),\n",
    "    (0.30, 0.10),\n",
    "    (0.20, 0.00),\n",
    "    (0.60, 0.20),\n",
    "    (0.40, 0.40),\n",
    "    (0.40, 0.30),\n",
    "    (0.00, 0.00),\n",
    "    (0.70, 0.50),\n",
    "    (0.10, 0.30),\n",
    "    (0.30, 0.30),\n",
    "    (0.50, 0.40),\n",
    "    (0.40, 0.40),\n",
    "    (0.00, 0.10),\n",
    "    (0.60, 0.40),\n",
    "    (0.50, 0.20),\n",
    "    (0.30, 0.10),\n",
    "    (0.10, 0.10),\n",
    "    (0.50, 0.60),\n",
    "    (0.20, 0.30),\n",
    "    (0.10, 0.20),\n",
    "]\n",
    "result = StudentTTest(paired_samples)\n",
    "result.n_topics()"
   ]
  },
  {
   "cell_type": "code",
   "execution_count": null,
   "metadata": {},
   "outputs": [],
   "source": []
  }
 ],
 "metadata": {
  "kernelspec": {
   "display_name": ".venv",
   "language": "python",
   "name": "python3"
  },
  "language_info": {
   "codemirror_mode": {
    "name": "ipython",
    "version": 3
   },
   "file_extension": ".py",
   "mimetype": "text/x-python",
   "name": "python",
   "nbconvert_exporter": "python",
   "pygments_lexer": "ipython3",
   "version": "3.9.19"
  }
 },
 "nbformat": 4,
 "nbformat_minor": 2
}
